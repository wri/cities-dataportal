{
 "cells": [
  {
   "cell_type": "markdown",
   "metadata": {},
   "source": [
    "**Inputs**\n",
    "* ImageCollection with Images: maximum a posterior (MAP) probabilities of each magnitude-year pair\n",
    "\n",
    "**Outputs**\n",
    "* ImageCollection with Images: maximum a posterior (MAP) probabilities of each magnitude-year pair--where magnitude values are thresholds"
   ]
  },
  {
   "cell_type": "code",
   "execution_count": 1,
   "metadata": {},
   "outputs": [
    {
     "data": {
      "text/html": [
       "<p>To authorize access needed by Earth Engine, open the following\n",
       "        URL in a web browser and follow the instructions:</p>\n",
       "        <p><a href=https://accounts.google.com/o/oauth2/auth?client_id=517222506229-vsmmajv00ul0bs7p89v5m89qs8eb9359.apps.googleusercontent.com&scope=https%3A%2F%2Fwww.googleapis.com%2Fauth%2Fearthengine+https%3A%2F%2Fwww.googleapis.com%2Fauth%2Fdevstorage.full_control&redirect_uri=urn%3Aietf%3Awg%3Aoauth%3A2.0%3Aoob&response_type=code&code_challenge=w4vHD2i-NJKYl1Y7ghxaJamIRw6lVsD_NXUFqPOZ92E&code_challenge_method=S256>https://accounts.google.com/o/oauth2/auth?client_id=517222506229-vsmmajv00ul0bs7p89v5m89qs8eb9359.apps.googleusercontent.com&scope=https%3A%2F%2Fwww.googleapis.com%2Fauth%2Fearthengine+https%3A%2F%2Fwww.googleapis.com%2Fauth%2Fdevstorage.full_control&redirect_uri=urn%3Aietf%3Awg%3Aoauth%3A2.0%3Aoob&response_type=code&code_challenge=w4vHD2i-NJKYl1Y7ghxaJamIRw6lVsD_NXUFqPOZ92E&code_challenge_method=S256</a></p>\n",
       "        <p>The authorization workflow will generate a code, which you\n",
       "        should paste in the box below</p>\n",
       "        "
      ],
      "text/plain": [
       "<IPython.core.display.HTML object>"
      ]
     },
     "metadata": {},
     "output_type": "display_data"
    },
    {
     "name": "stdout",
     "output_type": "stream",
     "text": [
      "Enter verification code: 4/1AX4XfWiNfEsn0a3nRbirupQBz_nDk1F1bsNQJ5CTHU3Z-wo1-yXScLlpk4U\n",
      "\n",
      "Successfully saved authorization token.\n"
     ]
    }
   ],
   "source": [
    "import ee\n",
    "ee.Authenticate()"
   ]
  },
  {
   "cell_type": "code",
   "execution_count": 2,
   "metadata": {},
   "outputs": [],
   "source": [
    "ee.Initialize()"
   ]
  },
  {
   "cell_type": "code",
   "execution_count": 3,
   "metadata": {},
   "outputs": [],
   "source": [
    "import hazard_info"
   ]
  },
  {
   "cell_type": "code",
   "execution_count": 1,
   "metadata": {},
   "outputs": [
    {
     "ename": "NameError",
     "evalue": "name 'ee' is not defined",
     "output_type": "error",
     "traceback": [
      "\u001b[1;31m---------------------------------------------------------------------------\u001b[0m",
      "\u001b[1;31mNameError\u001b[0m                                 Traceback (most recent call last)",
      "\u001b[1;32m<ipython-input-1-119c32253aa2>\u001b[0m in \u001b[0;36m<module>\u001b[1;34m\u001b[0m\n\u001b[1;32m----> 1\u001b[1;33m \u001b[0mWHOLE_GLOBE\u001b[0m \u001b[1;33m=\u001b[0m \u001b[0mee\u001b[0m\u001b[1;33m.\u001b[0m\u001b[0mGeometry\u001b[0m\u001b[1;33m.\u001b[0m\u001b[0mRectangle\u001b[0m\u001b[1;33m(\u001b[0m\u001b[1;33m[\u001b[0m\u001b[1;33m-\u001b[0m\u001b[1;36m179.999\u001b[0m\u001b[1;33m,\u001b[0m \u001b[1;33m-\u001b[0m\u001b[1;36m90\u001b[0m\u001b[1;33m,\u001b[0m \u001b[1;36m180\u001b[0m\u001b[1;33m,\u001b[0m \u001b[1;36m90\u001b[0m\u001b[1;33m]\u001b[0m\u001b[1;33m,\u001b[0m \u001b[1;34m'EPSG:4326'\u001b[0m\u001b[1;33m,\u001b[0m \u001b[1;32mFalse\u001b[0m\u001b[1;33m)\u001b[0m\u001b[1;33m\u001b[0m\u001b[1;33m\u001b[0m\u001b[0m\n\u001b[0m\u001b[0;32m      2\u001b[0m \u001b[0mSTART_YEAR\u001b[0m \u001b[1;33m=\u001b[0m \u001b[1;36m2020\u001b[0m\u001b[1;33m\u001b[0m\u001b[1;33m\u001b[0m\u001b[0m\n\u001b[0;32m      3\u001b[0m \u001b[0mEND_YEAR\u001b[0m \u001b[1;33m=\u001b[0m \u001b[1;36m2099\u001b[0m\u001b[1;33m\u001b[0m\u001b[1;33m\u001b[0m\u001b[0m\n\u001b[0;32m      4\u001b[0m \u001b[1;31m#PROBTYPE = \"MAPprobs\"\u001b[0m\u001b[1;33m\u001b[0m\u001b[1;33m\u001b[0m\u001b[1;33m\u001b[0m\u001b[0m\n\u001b[0;32m      5\u001b[0m \u001b[0mPROBTYPE\u001b[0m \u001b[1;33m=\u001b[0m \u001b[1;34m\"posterior_probs\"\u001b[0m\u001b[1;33m\u001b[0m\u001b[1;33m\u001b[0m\u001b[0m\n",
      "\u001b[1;31mNameError\u001b[0m: name 'ee' is not defined"
     ]
    }
   ],
   "source": [
    "WHOLE_GLOBE = ee.Geometry.Rectangle([-179.999, -90, 180, 90], 'EPSG:4326', False)\n",
    "START_YEAR = 2020\n",
    "END_YEAR = 2099\n",
    "#PROBTYPE = \"MAPprobs\"\n",
    "PROBTYPE = \"posterior_probs\""
   ]
  },
  {
   "cell_type": "code",
   "execution_count": 6,
   "metadata": {},
   "outputs": [],
   "source": [
    "for hazard in hazard_info.hazards[-1:]:\n",
    "    hazardname = hazard['name']\n",
    "    use_greaterthan = hazard['use_greaterthan']\n",
    "    mapprobs = ee.ImageCollection('users/tedwongwri/dataportal/{0}/{1}'.format(PROBTYPE, hazardname))\n",
    "    #for year in range(START_YEAR, END_YEAR + 1):\n",
    "    for year in [1980, 2030, 2050, 2080]:\n",
    "        # Goes through bands, each of which has the probs for one magnitude interval\n",
    "        # Then, for each band, goes through all magnitude intervals and adds probs if\n",
    "        # the inner (more raidly changing) magnitude interval is >= or <= (as apporpriate)\n",
    "        # the outer magnitude band\n",
    "        year_list = ee.List([])\n",
    "        img = mapprobs.filterMetadata('year', 'equals', year).first()\n",
    "        band_names = img.bandNames().getInfo()\n",
    "        mag_parts = [i.split('_')[1] for i in band_names]\n",
    "        highlows = [[float(j.replace('neg', '-')) for j in i.split('-')] for i in mag_parts]\n",
    "        for magnitude in highlows:\n",
    "            total_img = ee.Image(0)\n",
    "            prob_img = ee.Image(0)\n",
    "            for hl1 in highlows:\n",
    "                prob_segment = img.select('magnitude_{0}-{1}'.format(str(int(hl1[0])).replace('-', 'neg'), str(int(hl1[1])).replace('-', 'neg')))\n",
    "                total_img = total_img.add(prob_segment)\n",
    "                prob_img = prob_img.add(prob_segment.multiply(((hl1[1] >= magnitude[1] and use_greaterthan) or (hl1[0] <= magnitude[0] and not use_greaterthan)) * 1))\n",
    "            year_list = year_list.add(prob_img.divide(total_img).set('threshold', [magnitude[1], magnitude[0]][use_greaterthan * 1]))\n",
    "        year_img = ee.ImageCollection(year_list).toBands().rename(['threshold_{0}'.format(str(int(i[[1, 0][use_greaterthan * 1]])).replace('-', 'neg')) for i in highlows]).set('year', year)\n",
    "        task = ee.batch.Export.image.toAsset(**{\n",
    "            'image': year_img,\n",
    "            'description': 'threshold{0}_{1}_{2}'.format(PROBTYPE, hazardname, str(year)),\n",
    "            'assetId': 'users/tedwongwri/dataportal/threshold{0}/{1}/{2}'.format(PROBTYPE, hazardname, str(year)),\n",
    "            'region': WHOLE_GLOBE,\n",
    "            'crs': 'EPSG:4326',\n",
    "            #'dimensions': '1440x720'\n",
    "            'dimensions': '43200x21600',# For Aqueduct\n",
    "            'maxPixels': 1000000000 # For Aqueduct\n",
    "        })\n",
    "        task.start()"
   ]
  },
  {
   "cell_type": "code",
   "execution_count": null,
   "metadata": {},
   "outputs": [],
   "source": []
  }
 ],
 "metadata": {
  "kernelspec": {
   "display_name": "Python 3",
   "language": "python",
   "name": "python3"
  },
  "language_info": {
   "codemirror_mode": {
    "name": "ipython",
    "version": 3
   },
   "file_extension": ".py",
   "mimetype": "text/x-python",
   "name": "python",
   "nbconvert_exporter": "python",
   "pygments_lexer": "ipython3",
   "version": "3.8.5"
  }
 },
 "nbformat": 4,
 "nbformat_minor": 4
}
