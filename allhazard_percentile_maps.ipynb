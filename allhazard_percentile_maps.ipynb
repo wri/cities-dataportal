{
 "cells": [
  {
   "cell_type": "markdown",
   "metadata": {},
   "source": [
    "* Creates year-specific images, each with a band for each hazard.\n",
    "* Each pixel value is the percentile value exceeded by the acrossmodel-mean hazard magnitude, from a script-specified list of percentile values.\n",
    "* Percentiles are acrossmodel-means of percentiles that are calculated across the entire map, masked to include only pixels specified by the Global Human Settlement Layer as high-density or low-density urban."
   ]
  },
  {
   "cell_type": "code",
   "execution_count": 67,
   "metadata": {},
   "outputs": [
    {
     "data": {
      "text/html": [
       "<p>To authorize access needed by Earth Engine, open the following\n",
       "        URL in a web browser and follow the instructions:</p>\n",
       "        <p><a href=https://accounts.google.com/o/oauth2/auth?client_id=517222506229-vsmmajv00ul0bs7p89v5m89qs8eb9359.apps.googleusercontent.com&scope=https%3A%2F%2Fwww.googleapis.com%2Fauth%2Fearthengine+https%3A%2F%2Fwww.googleapis.com%2Fauth%2Fdevstorage.full_control&redirect_uri=urn%3Aietf%3Awg%3Aoauth%3A2.0%3Aoob&response_type=code&code_challenge=Qb7nJHy_af1hYsNYK2Y315Ljy_l6BICZcrLw4r0oWm0&code_challenge_method=S256>https://accounts.google.com/o/oauth2/auth?client_id=517222506229-vsmmajv00ul0bs7p89v5m89qs8eb9359.apps.googleusercontent.com&scope=https%3A%2F%2Fwww.googleapis.com%2Fauth%2Fearthengine+https%3A%2F%2Fwww.googleapis.com%2Fauth%2Fdevstorage.full_control&redirect_uri=urn%3Aietf%3Awg%3Aoauth%3A2.0%3Aoob&response_type=code&code_challenge=Qb7nJHy_af1hYsNYK2Y315Ljy_l6BICZcrLw4r0oWm0&code_challenge_method=S256</a></p>\n",
       "        <p>The authorization workflow will generate a code, which you\n",
       "        should paste in the box below</p>\n",
       "        "
      ],
      "text/plain": [
       "<IPython.core.display.HTML object>"
      ]
     },
     "metadata": {},
     "output_type": "display_data"
    },
    {
     "name": "stdout",
     "output_type": "stream",
     "text": [
      "Enter verification code: 4/1AX4XfWjO0zr8CsNMyhWrrB5OJRQ7Ufmjp0hKXUv760iy57TxBbzEqDFyzQA\n",
      "\n",
      "Successfully saved authorization token.\n"
     ]
    }
   ],
   "source": [
    "import ee\n",
    "ee.Authenticate()"
   ]
  },
  {
   "cell_type": "code",
   "execution_count": 68,
   "metadata": {},
   "outputs": [],
   "source": [
    "ee.Initialize()"
   ]
  },
  {
   "cell_type": "code",
   "execution_count": 69,
   "metadata": {},
   "outputs": [],
   "source": [
    "hazards = ['ds', 'maxdryspell', 'mtt35', 'modlandslide']\n",
    "MODELS = ['ACCESS1-0', 'bcc-csm1-1', 'BNU-ESM', 'CanESM2', 'CCSM4', 'CESM1-BGC', 'CNRM-CM5', 'CSIRO-Mk3-6-0', 'GFDL-CM3', 'GFDL-ESM2G', 'GFDL-ESM2M', 'inmcm4', 'IPSL-CM5A-LR', 'IPSL-CM5A-MR', 'MIROC-ESM', 'MIROC-ESM-CHEM', 'MIROC5', 'MPI-ESM-LR', 'MPI-ESM-MR', 'MRI-CGCM3', 'NorESM1-M']\n",
    "WHOLE_GLOBE = ee.Geometry.Rectangle([-179.999, -90, 180, 90], 'EPSG:4326', False)\n",
    "START_YEAR, END_YEAR = 2020, 2099\n",
    "PERCENTILE_VALUES = list(range(1,100))"
   ]
  },
  {
   "cell_type": "code",
   "execution_count": 70,
   "metadata": {},
   "outputs": [],
   "source": [
    "settlement = ee.ImageCollection(\"JRC/GHSL/P2016/SMOD_POP_GLOBE_V1\")\n",
    "settlement_img = settlement.filter(ee.Filter.date('2015-01-01', '2015-12-31')).first().reproject('EPSG:4326')\n",
    "unsettlement_mask = settlement_img.gte(2)"
   ]
  },
  {
   "cell_type": "code",
   "execution_count": 63,
   "metadata": {},
   "outputs": [
    {
     "ename": "IndentationError",
     "evalue": "expected an indented block (<ipython-input-63-d98d167faea5>, line 8)",
     "output_type": "error",
     "traceback": [
      "\u001b[1;36m  File \u001b[1;32m\"<ipython-input-63-d98d167faea5>\"\u001b[1;36m, line \u001b[1;32m8\u001b[0m\n\u001b[1;33m    percentiles = {h: {y: {p: 0 for p in PERCENTILE_VALUES} for y in range(START_YEAR, END_YEAR + 1)} for h in hazards}\u001b[0m\n\u001b[1;37m                                                                                                                       ^\u001b[0m\n\u001b[1;31mIndentationError\u001b[0m\u001b[1;31m:\u001b[0m expected an indented block\n"
     ]
    }
   ],
   "source": [
    "percentiles = {h: {y: {p: 0 for p in PERCENTILE_VALUES} for y in range(START_YEAR, END_YEAR + 1)} for h in hazards}\n",
    "for hazard in hazards:\n",
    "    for year in range(START_YEAR, END_YEAR + 1):\n",
    "        hazmags_year = ee.ImageCollection('users/tedwongwri/dataportal/magnitudes/{}'.format(hazard)).filterMetadata('year', 'equals', year)\n",
    "        for model in MODELS:\n",
    "            p_dict = hazmags_year.filterMetadata('model', 'equals', model).first().updateMask(unsettlement_mask).reduceRegion(ee.Reducer.percentile([75, 90, 95]), WHOLE_GLOBE).getInfo()\n",
    "            for p in p_dict.keys():\n",
    "                percentiles[hazard][year][int(p.split('_')[1][1:])] += int(p_dict[p]) / len(MODELS)"
   ]
  },
  {
   "cell_type": "code",
   "execution_count": 72,
   "metadata": {},
   "outputs": [],
   "source": [
    "mean_factor = 1 / (len(MODELS))\n",
    "for year in range(START_YEAR, END_YEAR + 1):\n",
    "    all_hazards = ee.List([])\n",
    "    for hazard in hazards:\n",
    "        hazmags_year = ee.ImageCollection('users/tedwongwri/dataportal/magnitudes/{}'.format(hazard)).filterMetadata('year', 'equals', year)\n",
    "        year_mean = ee.Image(0)\n",
    "        for model in MODELS:\n",
    "            year_mean = year_mean.add(hazmags_year.filterMetadata('model', 'equals', model).first().multiply(mean_factor))\n",
    "        percentile_level_list = ee.List([])\n",
    "        for p_idx in range(len(PERCENTILE_VALUES)):\n",
    "            p = PERCENTILE_VALUES[len(PERCENTILE_VALUES) - p_idx - 1]\n",
    "            percentile_level_list = percentile_levels.add(year_mean.gte(percentiles[hazard][year][p]).multiply(p))\n",
    "        percentile_level = ee.ImageCollection(percentile_level_list).max()\n",
    "        all_hazards = all_hazards.add(percentile_level)\n",
    "    year_result = ee.ImageCollection(all_hazards).toBands().rename(['{0}_{1}'.format(h, str(year)) for h in hazards]).set('year', year)\n",
    "    \n",
    "    task = ee.batch.Export.image.toAsset(**{\n",
    "          'image': year_result,\n",
    "          'description': 'percentilelevels_{}'.format(str(year)),\n",
    "          'assetId': 'users/tedwongwri/dataportal/percentilelevels/{}'.format(str(year)),\n",
    "          'region': WHOLE_GLOBE,\n",
    "          'crs': 'EPSG:4326',\n",
    "          'dimensions': '1440x720'\n",
    "        })\n",
    "    task.start()\n",
    "    "
   ]
  }
 ],
 "metadata": {
  "kernelspec": {
   "display_name": "Python 3",
   "language": "python",
   "name": "python3"
  },
  "language_info": {
   "codemirror_mode": {
    "name": "ipython",
    "version": 3
   },
   "file_extension": ".py",
   "mimetype": "text/x-python",
   "name": "python",
   "nbconvert_exporter": "python",
   "pygments_lexer": "ipython3",
   "version": "3.8.5"
  }
 },
 "nbformat": 4,
 "nbformat_minor": 4
}
