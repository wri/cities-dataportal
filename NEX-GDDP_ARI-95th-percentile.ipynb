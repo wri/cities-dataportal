{
 "cells": [
  {
   "cell_type": "markdown",
   "metadata": {},
   "source": [
    "**Inputs**\n",
    "* NEX-GDDP precip\n",
    "\n",
    "**Outputs**\n",
    "* One ImageCollection per model, with 95th percentile or ARI for each pixel"
   ]
  },
  {
   "cell_type": "code",
   "execution_count": 1,
   "metadata": {},
   "outputs": [
    {
     "data": {
      "text/html": [
       "<p>To authorize access needed by Earth Engine, open the following\n",
       "        URL in a web browser and follow the instructions:</p>\n",
       "        <p><a href=https://accounts.google.com/o/oauth2/auth?client_id=517222506229-vsmmajv00ul0bs7p89v5m89qs8eb9359.apps.googleusercontent.com&scope=https%3A%2F%2Fwww.googleapis.com%2Fauth%2Fearthengine+https%3A%2F%2Fwww.googleapis.com%2Fauth%2Fdevstorage.full_control&redirect_uri=urn%3Aietf%3Awg%3Aoauth%3A2.0%3Aoob&response_type=code&code_challenge=Ei3_0Qoo9zgbEeC8v1FN9YTqqlv6m7WlaOw1yFPxgcY&code_challenge_method=S256>https://accounts.google.com/o/oauth2/auth?client_id=517222506229-vsmmajv00ul0bs7p89v5m89qs8eb9359.apps.googleusercontent.com&scope=https%3A%2F%2Fwww.googleapis.com%2Fauth%2Fearthengine+https%3A%2F%2Fwww.googleapis.com%2Fauth%2Fdevstorage.full_control&redirect_uri=urn%3Aietf%3Awg%3Aoauth%3A2.0%3Aoob&response_type=code&code_challenge=Ei3_0Qoo9zgbEeC8v1FN9YTqqlv6m7WlaOw1yFPxgcY&code_challenge_method=S256</a></p>\n",
       "        <p>The authorization workflow will generate a code, which you\n",
       "        should paste in the box below</p>\n",
       "        "
      ],
      "text/plain": [
       "<IPython.core.display.HTML object>"
      ]
     },
     "metadata": {},
     "output_type": "display_data"
    },
    {
     "name": "stdout",
     "output_type": "stream",
     "text": [
      "Enter verification code: 4/1AX4XfWhj9jx_uXGcgrf1CFv3R421gHIGMGKWJa0gl7raT7lQsgi8ijN8m9g\n",
      "\n",
      "Successfully saved authorization token.\n"
     ]
    }
   ],
   "source": [
    "import ee\n",
    "ee.Authenticate()"
   ]
  },
  {
   "cell_type": "code",
   "execution_count": 2,
   "metadata": {},
   "outputs": [],
   "source": [
    "ee.Initialize()"
   ]
  },
  {
   "cell_type": "code",
   "execution_count": 66,
   "metadata": {},
   "outputs": [],
   "source": [
    "from datetime import date, timedelta\n",
    "import sys"
   ]
  },
  {
   "cell_type": "code",
   "execution_count": 81,
   "metadata": {},
   "outputs": [],
   "source": [
    "hist_data = ee.ImageCollection(\"NASA/NEX-GDDP\").select('pr')\n",
    "#PR_99 = ee.ImageCollection('users/tedwongwri/dataportal/percentiles/pr_99')\n",
    "#TASMAX_99 = ee.ImageCollection('users/tedwongwri/dataportal/percentiles/tasmax_99'),\n",
    "#TASMIN_01 = ee.ImageCollection('users/tedwongwri/dataportal/percentiles/tasmin_01'),\n",
    "SHORT_GLOBE = ee.Geometry.Rectangle([-179.999, -60, 180, 72], 'EPSG:4326', False)\n",
    "MODELS = ['ACCESS1-0', 'bcc-csm1-1', 'BNU-ESM', 'CanESM2', 'CCSM4', 'CESM1-BGC', 'CNRM-CM5', 'CSIRO-Mk3-6-0', 'GFDL-CM3', 'GFDL-ESM2G', 'GFDL-ESM2M', 'inmcm4', 'IPSL-CM5A-LR', 'IPSL-CM5A-MR', 'MIROC-ESM', 'MIROC-ESM-CHEM', 'MIROC5', 'MPI-ESM-LR', 'MPI-ESM-MR', 'MRI-CGCM3', 'NorESM1-M']\n",
    "START_DATE = date(2000, 1, 1)\n",
    "END_DATE = date(2000, 12, 31)"
   ]
  },
  {
   "cell_type": "code",
   "execution_count": 64,
   "metadata": {},
   "outputs": [],
   "source": [
    "def ari95(start_date, end_date, model):\n",
    "# antecedent rainfall index from https://agupubs.onlinelibrary.wiley.com/doi/full/10.1002/2017EF000715\n",
    "# takes start, end dates as datetime.date and model name\n",
    "# returns ee.ImageCollection\n",
    "    model_collection = ee.ImageCollection(ee.List([]))\n",
    "    modeldata = hist_data.filterMetadata('model', 'equals', model)\n",
    "    precip_list = ee.List([])\n",
    "    for t in range(6):\n",
    "        tt = 6 - t\n",
    "        tdate = start_date - timedelta(days=tt)\n",
    "        modelscenario_data = modeldata.filterMetadata('scenario', 'equals', ['historical', 'rcp85'][(tdate.year > 2005) * 1])\n",
    "        precip_list.add(modelscenario_data.filterDate(tdate.isoformat(), (tdate + timedelta(days=1)).isoformat()).first().multiply(86400))\n",
    "    for datediff in range((end_date - start_date).days + 1):\n",
    "        focal_date = start_date + timedelta(days = datediff)\n",
    "        modelscenario_data = modeldata.filterMetadata('scenario', 'equals', ['historical', 'rcp85'][(focal_date.year > 2005) * 1])\n",
    "        precip_list = precip_list.slice(0, 6)\n",
    "        precip_list.add(modelscenario_data.filterDate(focal_date.isoformat(), (focal_date + timedelta(days=1)).isoformat()).first().multiply(86400))\n",
    "        numerator = ee.Image.constant(0)\n",
    "        denominator = ee.Image.constant(0)\n",
    "        for t in range(7):\n",
    "            tdate = focal_date - timedelta(days=t)\n",
    "            precip = ee.Image(precip_list.get(-(t + 1)))\n",
    "            w = 1.0 / ((t + 1)**2)\n",
    "            numerator = numerator.add(precip.multiply(w))\n",
    "            denominator = denominator.add(w)\n",
    "        model_collection = model_collection.combine(ee.ImageCollection([numerator.divide(denominator)]))\n",
    "    #model_collection = ee.ImageCollection(model_list)\n",
    "    return model_collection.reduce(ee.Reducer.percentile([95]))"
   ]
  },
  {
   "cell_type": "code",
   "execution_count": 73,
   "metadata": {},
   "outputs": [],
   "source": [
    "sys.setrecursionlimit(2000)"
   ]
  },
  {
   "cell_type": "code",
   "execution_count": 83,
   "metadata": {
    "scrolled": false
   },
   "outputs": [],
   "source": [
    "for model in MODELS:\n",
    "    task = ee.batch.Export.image.toAsset(**{\n",
    "      'image': ari95(START_DATE, END_DATE, model).set('model', model),\n",
    "      'description': 'ari95_{}'.format(model),\n",
    "      'assetId': 'users/tedwongwri/dataportal/landslide/ari95/{0}'.format(model),\n",
    "      'region': SHORT_GLOBE,\n",
    "      'crs': 'EPSG:4326',\n",
    "      'dimensions': '43201x15841'\n",
    "    })\n",
    "    task.start()"
   ]
  },
  {
   "cell_type": "code",
   "execution_count": null,
   "metadata": {},
   "outputs": [],
   "source": []
  },
  {
   "cell_type": "code",
   "execution_count": null,
   "metadata": {},
   "outputs": [],
   "source": []
  },
  {
   "cell_type": "code",
   "execution_count": null,
   "metadata": {},
   "outputs": [],
   "source": []
  }
 ],
 "metadata": {
  "kernelspec": {
   "display_name": "Python 3",
   "language": "python",
   "name": "python3"
  },
  "language_info": {
   "codemirror_mode": {
    "name": "ipython",
    "version": 3
   },
   "file_extension": ".py",
   "mimetype": "text/x-python",
   "name": "python",
   "nbconvert_exporter": "python",
   "pygments_lexer": "ipython3",
   "version": "3.8.5"
  }
 },
 "nbformat": 4,
 "nbformat_minor": 4
}
