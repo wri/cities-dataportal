{
 "cells": [
  {
   "cell_type": "markdown",
   "metadata": {},
   "source": [
    "**Inputs**\n",
    "* ImageCollection(s) containing hazard probabilities for 2030 and 2065\n",
    "\n",
    "**Outputs**\n",
    "* Images: two-band (alpha, beta), one pair per magnitude"
   ]
  },
  {
   "cell_type": "code",
   "execution_count": 1,
   "metadata": {},
   "outputs": [
    {
     "data": {
      "text/html": [
       "<p>To authorize access needed by Earth Engine, open the following\n",
       "        URL in a web browser and follow the instructions:</p>\n",
       "        <p><a href=https://accounts.google.com/o/oauth2/auth?client_id=517222506229-vsmmajv00ul0bs7p89v5m89qs8eb9359.apps.googleusercontent.com&scope=https%3A%2F%2Fwww.googleapis.com%2Fauth%2Fearthengine+https%3A%2F%2Fwww.googleapis.com%2Fauth%2Fdevstorage.full_control&redirect_uri=urn%3Aietf%3Awg%3Aoauth%3A2.0%3Aoob&response_type=code&code_challenge=fpUgtRgRL2_f_xL5TKExpCBZKhYLoYAoxmxCNd8qwzU&code_challenge_method=S256>https://accounts.google.com/o/oauth2/auth?client_id=517222506229-vsmmajv00ul0bs7p89v5m89qs8eb9359.apps.googleusercontent.com&scope=https%3A%2F%2Fwww.googleapis.com%2Fauth%2Fearthengine+https%3A%2F%2Fwww.googleapis.com%2Fauth%2Fdevstorage.full_control&redirect_uri=urn%3Aietf%3Awg%3Aoauth%3A2.0%3Aoob&response_type=code&code_challenge=fpUgtRgRL2_f_xL5TKExpCBZKhYLoYAoxmxCNd8qwzU&code_challenge_method=S256</a></p>\n",
       "        <p>The authorization workflow will generate a code, which you\n",
       "        should paste in the box below</p>\n",
       "        "
      ],
      "text/plain": [
       "<IPython.core.display.HTML object>"
      ]
     },
     "metadata": {},
     "output_type": "display_data"
    },
    {
     "name": "stdout",
     "output_type": "stream",
     "text": [
      "Enter verification code: 4/1AX4XfWi_ol0l8wYgGe9duqU1yUJzvNkxS9D9KyGTnHYplVR_0pk_zWzRUh4\n",
      "\n",
      "Successfully saved authorization token.\n"
     ]
    }
   ],
   "source": [
    "import ee\n",
    "ee.Authenticate()"
   ]
  },
  {
   "cell_type": "code",
   "execution_count": 2,
   "metadata": {},
   "outputs": [],
   "source": [
    "ee.Initialize()"
   ]
  },
  {
   "cell_type": "code",
   "execution_count": 3,
   "metadata": {},
   "outputs": [],
   "source": [
    "WHOLE_GLOBE = ee.Geometry.Rectangle([-179.999, -90, 180, 90], 'EPSG:4326', False)\n",
    "MODELS = ['ACCESS1-0', 'bcc-csm1-1', 'BNU-ESM', 'CanESM2', 'CCSM4', 'CESM1-BGC', 'CNRM-CM5', 'CSIRO-Mk3-6-0', 'GFDL-CM3', 'GFDL-ESM2G', 'GFDL-ESM2M', 'inmcm4', 'IPSL-CM5A-LR', 'IPSL-CM5A-MR', 'MIROC-ESM', 'MIROC-ESM-CHEM', 'MIROC5', 'MPI-ESM-LR', 'MPI-ESM-MR', 'MRI-CGCM3', 'NorESM1-M']\n",
    "HIST_START = 1980\n",
    "HIST_END = 2019"
   ]
  },
  {
   "cell_type": "code",
   "execution_count": 4,
   "metadata": {},
   "outputs": [],
   "source": [
    "hazards = ['ds', 'maxdryspell']\n",
    "hazard_info = {\n",
    "    'ds': {\n",
    "        'num_bins': 100,\n",
    "        'bin_width': 1\n",
    "    },\n",
    "    'maxdryspell': {\n",
    "        'num_bins': 73,\n",
    "        'bin_width': 5\n",
    "    }\n",
    "}"
   ]
  },
  {
   "cell_type": "code",
   "execution_count": 6,
   "metadata": {},
   "outputs": [],
   "source": [
    "era_mags = {}\n",
    "for h in hazards:\n",
    "    era_mags[h] = ee.ImageCollection('users/tedwongwri/dataportal/hist-magnitudes/' + h)"
   ]
  },
  {
   "cell_type": "code",
   "execution_count": 7,
   "metadata": {},
   "outputs": [],
   "source": [
    "def alpha_beta(mag_low, mag_high):\n",
    "# alpha and beta parameters for MAP prob formula\n",
    "# alpha: historical \"successes\" plus 1\n",
    "# beta: historical \"failures\" plus 1\n",
    "    successes = ee.Image.constant(0).rename('alpha')\n",
    "    failures = ee.Image.constant(0).rename('beta')\n",
    "    for hist_year in range(HIST_START, HIST_END + 1):\n",
    "        # for pixel == magnitude\n",
    "        histyear = era_mags[hazardname].filterMetadata('year', 'equals', hist_year).first()\n",
    "        succ = histyear.round().gte(mag_low).multiply(1).multiply(histyear.round().lt(mag_high).multiply(1))\n",
    "        successes = successes.add(succ)\n",
    "        failures = failures.add(succ.multiply(-1).add(1))\n",
    "        # for pixel gte magnitude\n",
    "        #successes = successes.add(ehe_histyear.gte(magnitude).multiply(ehe_histyear.lt(magnitude + 5)))\n",
    "        #failures = failures.add(ehe_histyear.lt(magnitude).add(ehe_histyear.gte(magnitude + 5)).min(1))\n",
    "    alpha = successes.add(1).set('source', 'era5').set('magnitude_low', mag_low)\n",
    "    beta = failures.add(1).set('source', 'era5').set('magnitude_high', mag_high)\n",
    "    ic = ee.ImageCollection([alpha, beta])\n",
    "    twoband_image = ic.toBands().rename(['alpha', 'beta'])\n",
    "    return twoband_image"
   ]
  },
  {
   "cell_type": "code",
   "execution_count": 11,
   "metadata": {},
   "outputs": [],
   "source": [
    "for hazardname in hazards:\n",
    "    for bin_idx in range(hazard_info[hazardname]['num_bins']):\n",
    "        mag_low = (bin_idx) * hazard_info[hazardname]['bin_width']\n",
    "        mag_high = (bin_idx + 1) * hazard_info[hazardname]['bin_width']\n",
    "        img = alpha_beta(mag_low, mag_high).set('magnitude_low', mag_low).set('magnitude_high', mag_high)\n",
    "        task = ee.batch.Export.image.toAsset(**{\n",
    "          'image': img,\n",
    "          'description': 'alphabeta_{0}_{1}-{2}'.format(hazardname, str(mag_low), str(mag_high)),\n",
    "          'assetId': 'users/tedwongwri/dataportal/alphabeta/{0}/magnitude_{1}-{2}'.format(hazardname, str(mag_low), str(mag_high)),\n",
    "          'region': WHOLE_GLOBE,\n",
    "          'crs': 'EPSG:4326',\n",
    "          'dimensions': '1440x720'\n",
    "        })\n",
    "        task.start()"
   ]
  },
  {
   "cell_type": "code",
   "execution_count": null,
   "metadata": {},
   "outputs": [],
   "source": []
  }
 ],
 "metadata": {
  "kernelspec": {
   "display_name": "Python 3",
   "language": "python",
   "name": "python3"
  },
  "language_info": {
   "codemirror_mode": {
    "name": "ipython",
    "version": 3
   },
   "file_extension": ".py",
   "mimetype": "text/x-python",
   "name": "python",
   "nbconvert_exporter": "python",
   "pygments_lexer": "ipython3",
   "version": "3.8.5"
  }
 },
 "nbformat": 4,
 "nbformat_minor": 4
}
