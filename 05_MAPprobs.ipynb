{
 "cells": [
  {
   "cell_type": "markdown",
   "metadata": {},
   "source": [
    "**Inputs**\n",
    "* ImageCollections naive probabilities\n",
    "* ImageCollections projected hazard magnitudes calculated from NEX-GDDP\n",
    "* ImageCollections alpha, beta for each magnitude range\n",
    "\n",
    "**Outputs**\n",
    "* Images: maximum a posterior (MAP) probabilities of each magnitude-year pair"
   ]
  },
  {
   "cell_type": "code",
   "execution_count": 1,
   "metadata": {},
   "outputs": [
    {
     "data": {
      "text/html": [
       "<p>To authorize access needed by Earth Engine, open the following\n",
       "        URL in a web browser and follow the instructions:</p>\n",
       "        <p><a href=https://accounts.google.com/o/oauth2/auth?client_id=517222506229-vsmmajv00ul0bs7p89v5m89qs8eb9359.apps.googleusercontent.com&scope=https%3A%2F%2Fwww.googleapis.com%2Fauth%2Fearthengine+https%3A%2F%2Fwww.googleapis.com%2Fauth%2Fdevstorage.full_control&redirect_uri=urn%3Aietf%3Awg%3Aoauth%3A2.0%3Aoob&response_type=code&code_challenge=lG1lmfsJeqamNLhMNALWB7BLYZdCO_x-fijxRRwDjdw&code_challenge_method=S256>https://accounts.google.com/o/oauth2/auth?client_id=517222506229-vsmmajv00ul0bs7p89v5m89qs8eb9359.apps.googleusercontent.com&scope=https%3A%2F%2Fwww.googleapis.com%2Fauth%2Fearthengine+https%3A%2F%2Fwww.googleapis.com%2Fauth%2Fdevstorage.full_control&redirect_uri=urn%3Aietf%3Awg%3Aoauth%3A2.0%3Aoob&response_type=code&code_challenge=lG1lmfsJeqamNLhMNALWB7BLYZdCO_x-fijxRRwDjdw&code_challenge_method=S256</a></p>\n",
       "        <p>The authorization workflow will generate a code, which you\n",
       "        should paste in the box below</p>\n",
       "        "
      ],
      "text/plain": [
       "<IPython.core.display.HTML object>"
      ]
     },
     "metadata": {},
     "output_type": "display_data"
    },
    {
     "name": "stdout",
     "output_type": "stream",
     "text": [
      "Enter verification code: 4/1AX4XfWhjI6aZoIqClc6iXnkumL1ugRT5RJPu1TGN1FTEQp_qztw1ea5b52I\n",
      "\n",
      "Successfully saved authorization token.\n"
     ]
    }
   ],
   "source": [
    "import ee\n",
    "ee.Authenticate()"
   ]
  },
  {
   "cell_type": "code",
   "execution_count": 2,
   "metadata": {},
   "outputs": [],
   "source": [
    "ee.Initialize()"
   ]
  },
  {
   "cell_type": "code",
   "execution_count": 3,
   "metadata": {},
   "outputs": [],
   "source": [
    "import sys\n",
    "sys.setrecursionlimit(2000)"
   ]
  },
  {
   "cell_type": "code",
   "execution_count": 4,
   "metadata": {},
   "outputs": [],
   "source": [
    "WHOLE_GLOBE = ee.Geometry.Rectangle([-179.999, -90, 180, 90], 'EPSG:4326', False)\n",
    "MODELS = ['ACCESS1-0', 'bcc-csm1-1', 'BNU-ESM', 'CanESM2', 'CCSM4', 'CESM1-BGC', 'CNRM-CM5', 'CSIRO-Mk3-6-0', 'GFDL-CM3', 'GFDL-ESM2G', 'GFDL-ESM2M', 'inmcm4', 'IPSL-CM5A-LR', 'IPSL-CM5A-MR', 'MIROC-ESM', 'MIROC-ESM-CHEM', 'MIROC5', 'MPI-ESM-LR', 'MPI-ESM-MR', 'MRI-CGCM3', 'NorESM1-M']\n",
    "hazards = ['ds', 'maxdryspell']\n",
    "CURRENT_YEAR = 2030\n",
    "FUTURE_YEAR = 2065\n",
    "START_YEAR = 2020\n",
    "END_YEAR = 2099"
   ]
  },
  {
   "cell_type": "code",
   "execution_count": 5,
   "metadata": {},
   "outputs": [],
   "source": [
    "hazard_info = {\n",
    "    'ds': {\n",
    "        'num_bins': 100,\n",
    "        'bin_width': 1\n",
    "    },\n",
    "    'maxdryspell': {\n",
    "        'num_bins': 73,\n",
    "        'bin_width': 5\n",
    "    }\n",
    "}"
   ]
  },
  {
   "cell_type": "code",
   "execution_count": 6,
   "metadata": {},
   "outputs": [],
   "source": [
    "nex_mags = {}\n",
    "for h in hazards:\n",
    "    nex_mags[h] = ee.ImageCollection('users/tedwongwri/dataportal/magnitudes/' + h)"
   ]
  },
  {
   "cell_type": "code",
   "execution_count": 7,
   "metadata": {},
   "outputs": [],
   "source": [
    "def parameter_prime(param, target_year, mag_low, mag_high, flip):\n",
    "    cnp = naive_current.select('magnitude_{0}-{1}'.format(str(mag_low), str(mag_high)))\n",
    "    fnp = naive_future.select('magnitude_{0}-{1}'.format(str(mag_low), str(mag_high)))\n",
    "    if flip:\n",
    "        return param.add((((fnp.multiply(-1).add(1)).subtract(cnp.multiply(-1).add(1))).divide(FUTURE_YEAR - CURRENT_YEAR)).multiply(target_year - CURRENT_YEAR)).multiply(0.1)\n",
    "    else:\n",
    "        return param.add(((fnp.subtract(cnp)).divide(FUTURE_YEAR - CURRENT_YEAR)).multiply(target_year - CURRENT_YEAR)).multiply(0.1)"
   ]
  },
  {
   "cell_type": "code",
   "execution_count": null,
   "metadata": {},
   "outputs": [],
   "source": [
    "for hazardname in hazards:\n",
    "    alphabeta = ee.ImageCollection('users/tedwongwri/dataportal/alphabeta/' + hazardname)\n",
    "    naive_current = ee.Image('users/tedwongwri/dataportal/naive-probs/' + hazardname + '_' + str(CURRENT_YEAR))\n",
    "    naive_future = ee.Image('users/tedwongwri/dataportal/naive-probs/' + hazardname + '_' + str(FUTURE_YEAR))\n",
    "\n",
    "    for year in range(START_YEAR, END_YEAR + 1):\n",
    "        year_probs = ee.Image()\n",
    "        for bin_idx in range(hazard_info[hazardname]['num_bins']):\n",
    "            mag_low = (bin_idx) * hazard_info[hazardname]['bin_width']\n",
    "            mag_high = (bin_idx + 1) * hazard_info[hazardname]['bin_width']\n",
    "            successes = ee.Image.constant(0)\n",
    "            failures = ee.Image.constant(0)\n",
    "            year_magnitude_images_list = ee.List([])\n",
    "            ab = alphabeta.filterMetadata('magnitude_low', 'equals', mag_low).first()\n",
    "            alpha = parameter_prime(ab.select('alpha'), year, mag_low, mag_high, False)\n",
    "            beta = parameter_prime(ab.select('beta'), year, mag_low, mag_high, True)\n",
    "            for model in MODELS:\n",
    "                hazard_year_model = nex_mags[hazardname].filterMetadata('year', 'equals', year).filterMetadata('model', 'equals', model).first()\n",
    "                succ = hazard_year_model.gte(mag_low).multiply(1).multiply(hazard_year_model.lt(mag_high).multiply(1))\n",
    "                successes = successes.add(succ)\n",
    "                failures = failures.add(succ.multiply(-1).add(1))\n",
    "                #successes = successes.add(hazard_year_model.round().eq(mag_img).multiply(1))\n",
    "                #failures = failures.add(hazard_year_model.round().eq(mag_img).multiply(-1).add(1))\n",
    "                year_magnitude_images = (successes.add(alpha).subtract(1)).divide(successes.add(failures).add(beta).add(alpha).subtract(2)).max(0).min(1)\n",
    "                year_magnitude_images_list = year_magnitude_images_list.add(year_magnitude_images)\n",
    "            year_magnitude_meanprob = ee.ImageCollection(year_magnitude_images_list).mean().rename('magnitude_{0}-{1}'.format(str(mag_low), str(mag_high)))\n",
    "            year_probs = year_probs.addBands(year_magnitude_meanprob)\n",
    "        year_probs = year_probs.set('year', year)\n",
    "        year_probs = year_probs.select(\n",
    "            year_probs.bandNames().filter(\n",
    "                ee.Filter.stringStartsWith('item', 'magnitude_')\n",
    "            )\n",
    "        )\n",
    "        task = ee.batch.Export.image.toAsset(**{\n",
    "            'image': year_probs,\n",
    "            'description': 'MAPprob_{0}_{1}'.format(hazardname, str(year)),\n",
    "            'assetId': 'users/tedwongwri/dataportal/MAPprobs/{0}/{1}'.format(hazardname, str(year)),\n",
    "            'region': WHOLE_GLOBE,\n",
    "            'crs': 'EPSG:4326',\n",
    "            'dimensions': '1440x720'\n",
    "        })\n",
    "        task.start()"
   ]
  },
  {
   "cell_type": "code",
   "execution_count": null,
   "metadata": {},
   "outputs": [],
   "source": []
  }
 ],
 "metadata": {
  "kernelspec": {
   "display_name": "Python 3",
   "language": "python",
   "name": "python3"
  },
  "language_info": {
   "codemirror_mode": {
    "name": "ipython",
    "version": 3
   },
   "file_extension": ".py",
   "mimetype": "text/x-python",
   "name": "python",
   "nbconvert_exporter": "python",
   "pygments_lexer": "ipython3",
   "version": "3.8.5"
  }
 },
 "nbformat": 4,
 "nbformat_minor": 4
}
