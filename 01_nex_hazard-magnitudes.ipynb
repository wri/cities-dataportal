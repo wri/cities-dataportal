{
 "cells": [
  {
   "cell_type": "markdown",
   "metadata": {},
   "source": [
    "**Inputs**\n",
    "* NEX-GDDP data\n",
    "* Hazard definition(s)\n",
    "\n",
    "**Outputs**\n",
    "* ImageCollection(s) containing hazard magnitudes for each year-model pair\n",
    "* Stored in users/tedwongwri/dataportal/magnitudes/HAZARDNAME\n",
    "* **You must manually create the empty ImageCollection** in the dataportal/magnitudes directory before trying to export results"
   ]
  },
  {
   "cell_type": "code",
   "execution_count": 1,
   "metadata": {
    "scrolled": true
   },
   "outputs": [
    {
     "data": {
      "text/html": [
       "<p>To authorize access needed by Earth Engine, open the following\n",
       "        URL in a web browser and follow the instructions:</p>\n",
       "        <p><a href=https://accounts.google.com/o/oauth2/auth?client_id=517222506229-vsmmajv00ul0bs7p89v5m89qs8eb9359.apps.googleusercontent.com&scope=https%3A%2F%2Fwww.googleapis.com%2Fauth%2Fearthengine+https%3A%2F%2Fwww.googleapis.com%2Fauth%2Fdevstorage.full_control&redirect_uri=urn%3Aietf%3Awg%3Aoauth%3A2.0%3Aoob&response_type=code&code_challenge=x5aYNsy8lvkJjyTWFlFY9aPk_-aE0Mm5wcI_7D0ZqYo&code_challenge_method=S256>https://accounts.google.com/o/oauth2/auth?client_id=517222506229-vsmmajv00ul0bs7p89v5m89qs8eb9359.apps.googleusercontent.com&scope=https%3A%2F%2Fwww.googleapis.com%2Fauth%2Fearthengine+https%3A%2F%2Fwww.googleapis.com%2Fauth%2Fdevstorage.full_control&redirect_uri=urn%3Aietf%3Awg%3Aoauth%3A2.0%3Aoob&response_type=code&code_challenge=x5aYNsy8lvkJjyTWFlFY9aPk_-aE0Mm5wcI_7D0ZqYo&code_challenge_method=S256</a></p>\n",
       "        <p>The authorization workflow will generate a code, which you\n",
       "        should paste in the box below</p>\n",
       "        "
      ],
      "text/plain": [
       "<IPython.core.display.HTML object>"
      ]
     },
     "metadata": {},
     "output_type": "display_data"
    },
    {
     "name": "stdout",
     "output_type": "stream",
     "text": [
      "Enter verification code: 4/1AX4XfWhhC_bUbdBIt63tOmbrtosCa4v8s_ShtslSM1OVyQ0jr1p4btvgDlQ\n",
      "\n",
      "Successfully saved authorization token.\n"
     ]
    }
   ],
   "source": [
    "import ee\n",
    "ee.Authenticate()"
   ]
  },
  {
   "cell_type": "code",
   "execution_count": 2,
   "metadata": {},
   "outputs": [],
   "source": [
    "ee.Initialize()"
   ]
  },
  {
   "cell_type": "code",
   "execution_count": 58,
   "metadata": {},
   "outputs": [],
   "source": [
    "from datetime import date, timedelta\n",
    "from calendar import isleap"
   ]
  },
  {
   "cell_type": "code",
   "execution_count": 59,
   "metadata": {},
   "outputs": [],
   "source": [
    "# Define hazards here\n",
    "\n",
    "def dryspells(yeardata):\n",
    "    dry_days = yeardata.map(lambda d: d.eq(0).multiply(1))\n",
    "    return process_runs(dry_days, 5, 'count')\n",
    "\n",
    "def ece(yeardata):\n",
    "    return\n",
    "\n",
    "def ehe(yeardata):\n",
    "    tasmax_p99_model = TASMAX_99.filterMetadata('model', 'equals', model).first()\n",
    "    over_year = yeardata.map(lambda x: x.gt(tasmax_p99_model).multiply(1))\n",
    "    return over_year.sum()\n",
    "\n",
    "def mtt35(yeardata):\n",
    "    over_year = yeardata.map(lambda x: x.gt(35 + 273.15).multiply(1))\n",
    "    return over_year.sum()\n",
    "\n",
    "def maxdryspell(yeardata):\n",
    "    # Climdex CDD: Let RR_ij be the daily precipitation amount on day i in period j. Count the largest number of consecutive days where RR_ij < 1mm\n",
    "    dry_days = yeardata.map(lambda d: d.multiply(86400).eq(0))\n",
    "    return process_runs(dry_days, 1, 'max')\n",
    "\n",
    "susc = ee.Image(\"users/tedwongwri/dataportal/landslide/susc\")\n",
    "ari95 = ee.Image(\"users/tedwongwri/dataportal/landslide/ARI95\")\n",
    "def modlandslide(yeardata):\n",
    "# Returns number of days in year with moderate or high landslide risk\n",
    "# antecedent rainfall index from https://agupubs.onlinelibrary.wiley.com/doi/full/10.1002/2017EF000715\n",
    "    start_date, end_date = date(year, 1, 1), date(year, 12, 31)\n",
    "    modeldata = NEX.filterDate((start_date - timedelta(days=7)).isoformat(), end_date.isoformat()).filterMetadata('model', 'equals', model).select('pr')\n",
    "    modrisk_list = ee.List([]) # holds results\n",
    "    highrisk_list = ee.List([]) # holds results\n",
    "    precip_list = ee.List([ee.Image(0)]) # holds input precip for current date and six previous; zero image is dummy, will be removed immediately\n",
    "    for t in range(6):  # Create list with seven days of data, with most recent last\n",
    "        tt = 6 - t\n",
    "        tdate = start_date - timedelta(days=tt)\n",
    "        modelscenario_data = modeldata.filterMetadata('scenario', 'equals', ['historical', 'rcp85'][(tdate.year > 2005) * 1])\n",
    "        precip_list = precip_list.add(modelscenario_data.filterDate(tdate.isoformat(), (tdate + timedelta(days=1)).isoformat()).first().multiply(86400))\n",
    "    for datediff in range((end_date - start_date).days + ([0, -1][(isleap(year) and model in NOLEAP_MODELS) * 1])):\n",
    "        focal_date = skipleap(start_date + timedelta(days = datediff), model)\n",
    "        modelscenario_data = modeldata.filterMetadata('scenario', 'equals', ['historical', 'rcp85'][(focal_date.year > 2005) * 1])\n",
    "        precip_list = precip_list.slice(1, 7)  #Every day remove one, add one\n",
    "        precip_list = precip_list.add(modelscenario_data.filterDate(focal_date.isoformat(), (skipleap(focal_date + timedelta(days=1), model)).isoformat()).first().multiply(86400))\n",
    "        numerator = ee.Image.constant(0)\n",
    "        denominator = ee.Image.constant(0)\n",
    "        for t in range(7):\n",
    "            tdate = skipleap(focal_date - timedelta(days=t), model)\n",
    "            precip = ee.Image(precip_list.get(-(t + 1)))\n",
    "            w = 1.0 / ((t + 1)**2)\n",
    "            numerator = numerator.add(precip.multiply(w))\n",
    "            denominator = denominator.add(w)\n",
    "        modrisk_list = modrisk_list.add((numerator.divide(denominator).gt(ari95).multiply(1)).multiply(susc.gt(2).multiply(1)))\n",
    "        highrisk_list = highrisk_list.add((numerator.divide(denominator).gt(ari95).multiply(1)).multiply(susc.gt(4).multiply(1)))\n",
    "    return ee.ImageCollection(modrisk_list).sum()\n",
    "    \n",
    "    \n",
    "\n",
    "hazards = [\n",
    "            {'definition': ehe,\n",
    "             'variable': 'tasmax'\n",
    "            },\n",
    "            {'definition': mtt35,\n",
    "             'variable': 'tasmax'\n",
    "            },\n",
    "            {'definition': modlandslide,\n",
    "             'variable': 'pr'\n",
    "            },\n",
    "]"
   ]
  },
  {
   "cell_type": "code",
   "execution_count": 3,
   "metadata": {},
   "outputs": [],
   "source": [
    "def process_runs(imgs, runLength, resultType): \n",
    "# from Logan Byers\n",
    "    def doOne(img, data):\n",
    "   #data = ee.Image(data);\n",
    "\n",
    "        dataDict = ee.Dictionary(data)\n",
    "\n",
    "        previousThresholdImage = ee.Image(dataDict.get('previousThresholdImage'))\n",
    "        currentStreakImage = ee.Image(dataDict.get('currentStreakImage')).uint16()\n",
    "        streakCountImage = ee.Image(dataDict.get('streakCountImage')).uint16()\n",
    "        longestStreakImage = ee.Image(dataDict.get('longestStreakImage')).uint16()\n",
    "        streakAccumulation = ee.Image(dataDict.get('streakAccumulation')).uint16()\n",
    "        numRemaining = ee.Number(dataDict.get('numRemaining'))\n",
    "\n",
    "        # WHERE yesterday AND today : 1, else 0\n",
    "        #continueStreakImage = previousThresholdImage.and(ee.Image(img))\n",
    "        continueStreakImage = previousThresholdImage.multiply(ee.Image(img)).multiply(ee.Image(numRemaining).gt(1).multiply(1))\n",
    "\n",
    "        # WHERE NOT on streak :  yesterday streak length, else 0\n",
    "        #streakEndedImage = currentStreakImage.multiply(currentStreakImage.and(continueStreakImage.not()))\n",
    "        streakEndedImage = currentStreakImage.multiply(currentStreakImage.multiply(continueStreakImage.multiply(-1).add(1)))\n",
    "\n",
    "        # WHERE NOT on streak AND yesterday streak length > length threshold : 1, else 0\n",
    "        endedStreakExceedsLengthImage = currentStreakImage.multiply(streakEndedImage).gte(runLength)\n",
    "\n",
    "        # update the state\n",
    "        accumulator = ee.Dictionary.fromLists([\n",
    "            'previousThresholdImage',\n",
    "            'currentStreakImage',\n",
    "            'streakCountImage',\n",
    "            'longestStreakImage',\n",
    "            'streakAccumulation',\n",
    "            'numRemaining'\n",
    "          ], [\n",
    "            # previousThresholdImage --> today's image\n",
    "            ee.Image(img),\n",
    "            # currentStreakImage --> today's image PLUS yesterday's streak (where continuing)\n",
    "            currentStreakImage\n",
    "              .multiply(continueStreakImage).add(ee.Image(img)),\n",
    "            # streakCountImage --> PLUS 1 where long streak ended today\n",
    "            streakCountImage.add(endedStreakExceedsLengthImage),\n",
    "            # longestStreakImage --> larger of prev and current value\n",
    "            longestStreakImage.max(currentStreakImage.multiply(continueStreakImage).add(ee.Image(img))),\n",
    "            # streakAccumulation --> yesterday's accum plus current 1/0, if in streak\n",
    "            streakAccumulation.add(ee.Image(img).multiply(continueStreakImage)),\n",
    "            # numRemaining --> minus 1\n",
    "            numRemaining.add(-1)\n",
    "          ]\n",
    "        )\n",
    "\n",
    "        return accumulator\n",
    "  \n",
    "    resultImageName = {\n",
    "        'count': 'streakCountImage',\n",
    "        'max': 'longestStreakImage',\n",
    "        'accum': 'streakAccumulation'\n",
    "    }\n",
    "  \n",
    "    streakData = imgs.iterate(\n",
    "    # iterate over each image in the ImageCollection\n",
    "    #   accumulate a stateful Dictionary of images\n",
    "    \n",
    "        doOne, ee.Dictionary.fromLists([\n",
    "          'previousThresholdImage', \n",
    "          'currentStreakImage',\n",
    "          'streakCountImage',\n",
    "          'longestStreakImage',\n",
    "          'streakAccumulation',\n",
    "          'numRemaining'\n",
    "        ], [\n",
    "          ee.Image.constant(1),\n",
    "          ee.Image.constant(0).uint16(),\n",
    "          ee.Image.constant(0).uint16(),\n",
    "          ee.Image.constant(0).uint16(),\n",
    "          ee.Image.constant(0).uint16(),\n",
    "          imgs.size().add(-1)\n",
    "        ]\n",
    "        )\n",
    "    \n",
    "    )\n",
    "    return ee.Image(ee.Dictionary(streakData).get(resultImageName[resultType]))"
   ]
  },
  {
   "cell_type": "code",
   "execution_count": 55,
   "metadata": {},
   "outputs": [],
   "source": [
    "NEX = ee.ImageCollection(\"NASA/NEX-GDDP\")\n",
    "PR_99 = ee.ImageCollection('users/tedwongwri/dataportal/percentiles/pr_99')\n",
    "TASMAX_99 = ee.ImageCollection('users/tedwongwri/dataportal/percentiles/tasmax_99')\n",
    "TASMIN_01 = ee.ImageCollection('users/tedwongwri/dataportal/percentiles/tasmin_01')\n",
    "WHOLE_GLOBE = ee.Geometry.Rectangle([-179.999, -90, 180, 90], 'EPSG:4326', False)\n",
    "MODELS = ['ACCESS1-0', 'bcc-csm1-1', 'BNU-ESM', 'CanESM2', 'CCSM4', 'CESM1-BGC', 'CNRM-CM5', 'CSIRO-Mk3-6-0', 'GFDL-CM3', 'GFDL-ESM2G', 'GFDL-ESM2M', 'inmcm4', 'IPSL-CM5A-LR', 'IPSL-CM5A-MR', 'MIROC-ESM', 'MIROC-ESM-CHEM', 'MIROC5', 'MPI-ESM-LR', 'MPI-ESM-MR', 'MRI-CGCM3', 'NorESM1-M']\n",
    "NOLEAP_MODELS = ['bcc-csm1-1', 'BNU-ESM', 'CanESM2', 'CCSM4', 'CESM-BGC', 'CSIRO-Mk3-6-0', 'GFDL-CM3', 'GFDL-ESM2G', 'GFDL-ESM2M', 'inmcm4', 'IPL-CM5A-LR', 'IPSL-CM5A-MR', 'MIROC5', 'NorESM1-M']\n",
    "START_YEAR = 2010\n",
    "END_YEAR = 2099\n",
    "\n",
    "def skipleap(d, model):\n",
    "    # Checks whether d is Feb 29. If not, returns d. If it is and model in list of leap-intolerant models, returns March 1.\n",
    "    if model in NOLEAP_MODELS and d.month == 2 and d.day == 29:\n",
    "        return date(d.year, 3, 1)\n",
    "    else:\n",
    "        return d"
   ]
  },
  {
   "cell_type": "code",
   "execution_count": 60,
   "metadata": {},
   "outputs": [],
   "source": [
    "for hazard in hazards:\n",
    "    for year in range(START_YEAR + 1, END_YEAR + 1):\n",
    "        for model in MODELS:\n",
    "            data = NEX.filterMetadata('model', 'equals', model).filterDate(str(year) + '-01-01', str(year) + '-12-31').filterMetadata('scenario', 'equals', ['historical', 'rcp85'][(year > 2005) * 1]).select(hazard['variable'])\n",
    "            img = hazard['definition'](data)\n",
    "            task = ee.batch.Export.image.toAsset(**{\n",
    "              'image': img.rename(hazard['definition'].__name__).set('model', model).set('year', year),\n",
    "              'description': '{0}_{1}_{2}'.format(hazard['definition'].__name__, str(year), model),\n",
    "              'assetId': 'users/tedwongwri/dataportal/magnitudes/{0}/{1}_{2}'.format(hazard['definition'].__name__, str(year), model),\n",
    "              'region': WHOLE_GLOBE,\n",
    "              'crs': 'EPSG:4326',\n",
    "              'dimensions': '1440x720'\n",
    "            })\n",
    "            task.start()"
   ]
  },
  {
   "cell_type": "code",
   "execution_count": null,
   "metadata": {},
   "outputs": [],
   "source": []
  }
 ],
 "metadata": {
  "kernelspec": {
   "display_name": "Python 3",
   "language": "python",
   "name": "python3"
  },
  "language_info": {
   "codemirror_mode": {
    "name": "ipython",
    "version": 3
   },
   "file_extension": ".py",
   "mimetype": "text/x-python",
   "name": "python",
   "nbconvert_exporter": "python",
   "pygments_lexer": "ipython3",
   "version": "3.8.5"
  }
 },
 "nbformat": 4,
 "nbformat_minor": 4
}
