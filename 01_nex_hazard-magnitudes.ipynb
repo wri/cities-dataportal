{
 "cells": [
  {
   "cell_type": "markdown",
   "metadata": {},
   "source": [
    "**Inputs**\n",
    "* NEX-GDDP data\n",
    "* Hazard definition(s)\n",
    "\n",
    "**Outputs**\n",
    "* ImageCollection(s) containing hazard magnitudes for each year-model pair\n",
    "* Stored in users/tedwongwri/dataportal/magnitudes/HAZARDNAME\n",
    "* **You must manually create the empty ImageCollection** in the dataportal/magnitudes directory before trying to export results"
   ]
  },
  {
   "cell_type": "code",
   "execution_count": 1,
   "metadata": {
    "scrolled": true
   },
   "outputs": [
    {
     "data": {
      "text/html": [
       "<p>To authorize access needed by Earth Engine, open the following\n",
       "        URL in a web browser and follow the instructions:</p>\n",
       "        <p><a href=https://accounts.google.com/o/oauth2/auth?client_id=517222506229-vsmmajv00ul0bs7p89v5m89qs8eb9359.apps.googleusercontent.com&scope=https%3A%2F%2Fwww.googleapis.com%2Fauth%2Fearthengine+https%3A%2F%2Fwww.googleapis.com%2Fauth%2Fdevstorage.full_control&redirect_uri=urn%3Aietf%3Awg%3Aoauth%3A2.0%3Aoob&response_type=code&code_challenge=kSIby4RvrngjRyZSSc4tZcznYxvMhlsm8rb1l08GwxQ&code_challenge_method=S256>https://accounts.google.com/o/oauth2/auth?client_id=517222506229-vsmmajv00ul0bs7p89v5m89qs8eb9359.apps.googleusercontent.com&scope=https%3A%2F%2Fwww.googleapis.com%2Fauth%2Fearthengine+https%3A%2F%2Fwww.googleapis.com%2Fauth%2Fdevstorage.full_control&redirect_uri=urn%3Aietf%3Awg%3Aoauth%3A2.0%3Aoob&response_type=code&code_challenge=kSIby4RvrngjRyZSSc4tZcznYxvMhlsm8rb1l08GwxQ&code_challenge_method=S256</a></p>\n",
       "        <p>The authorization workflow will generate a code, which you\n",
       "        should paste in the box below</p>\n",
       "        "
      ],
      "text/plain": [
       "<IPython.core.display.HTML object>"
      ]
     },
     "metadata": {},
     "output_type": "display_data"
    },
    {
     "name": "stdout",
     "output_type": "stream",
     "text": [
      "Enter verification code: 4/1AX4XfWgNY2iP_hneYL3QjkCRzGd9a-jcDNQDXrL6mfjVI2Zv5bz5Bk2FRFM\n",
      "\n",
      "Successfully saved authorization token.\n"
     ]
    }
   ],
   "source": [
    "import ee\n",
    "ee.Authenticate()"
   ]
  },
  {
   "cell_type": "code",
   "execution_count": 2,
   "metadata": {},
   "outputs": [],
   "source": [
    "ee.Initialize()"
   ]
  },
  {
   "cell_type": "code",
   "execution_count": 12,
   "metadata": {},
   "outputs": [],
   "source": [
    "# Define hazards here\n",
    "\n",
    "def dryspells(yeardata):\n",
    "    dry_days = yeardata.map(lambda d: d.eq(0))\n",
    "    return process_runs(dry_days, 5, 'count')\n",
    "\n",
    "def ECE(yeardata):\n",
    "    return\n",
    "\n",
    "def maxdryspell(yeardata):\n",
    "    # Climdex CDD: Let RR_ij be the daily precipitation amount on day i in period j. Count the largest number of consecutive days where RR_ij < 1mm\n",
    "    dry_days = yeardata.map(lambda d: d.multiply(86400).lt(1))\n",
    "    return process_runs(dry_days, 1, 'max')\n",
    "\n",
    "hazards = [\n",
    "            {'definition': maxdryspell,\n",
    "             'variable': 'pr'\n",
    "            },\n",
    "]"
   ]
  },
  {
   "cell_type": "code",
   "execution_count": 20,
   "metadata": {},
   "outputs": [],
   "source": [
    "def process_runs(imgs, runLength, resultType): \n",
    "# from Logan Byers\n",
    "    def doOne(img, data):\n",
    "   #data = ee.Image(data);\n",
    "\n",
    "        dataDict = ee.Dictionary(data)\n",
    "\n",
    "        previousThresholdImage = ee.Image(dataDict.get('previousThresholdImage'))\n",
    "        currentStreakImage = ee.Image(dataDict.get('currentStreakImage')).uint16()\n",
    "        streakCountImage = ee.Image(dataDict.get('streakCountImage')).uint16()\n",
    "        longestStreakImage = ee.Image(dataDict.get('longestStreakImage')).uint16()\n",
    "        streakAccumulation = ee.Image(dataDict.get('streakAccumulation')).uint16()\n",
    "        numRemaining = ee.Number(dataDict.get('numRemaining'))\n",
    "\n",
    "        # WHERE yesterday AND today : 1, else 0\n",
    "        #continueStreakImage = previousThresholdImage.and(ee.Image(img))\n",
    "        continueStreakImage = previousThresholdImage.multiply(ee.Image(img)).multiply(ee.Image(numRemaining).gt(1).multiply(1))\n",
    "\n",
    "        # WHERE NOT on streak :  yesterday streak length, else 0\n",
    "        #streakEndedImage = currentStreakImage.multiply(currentStreakImage.and(continueStreakImage.not()))\n",
    "        streakEndedImage = currentStreakImage.multiply(currentStreakImage.multiply(continueStreakImage.multiply(-1).add(1)))\n",
    "\n",
    "        # WHERE NOT on streak AND yesterday streak length > length threshold : 1, else 0\n",
    "        endedStreakExceedsLengthImage = currentStreakImage.multiply(streakEndedImage).gte(runLength)\n",
    "\n",
    "        # update the state\n",
    "        accumulator = ee.Dictionary.fromLists([\n",
    "            'previousThresholdImage',\n",
    "            'currentStreakImage',\n",
    "            'streakCountImage',\n",
    "            'longestStreakImage',\n",
    "            'streakAccumulation',\n",
    "            'numRemaining'\n",
    "          ], [\n",
    "            # previousThresholdImage --> today's image\n",
    "            ee.Image(img),\n",
    "            # currentStreakImage --> today's image PLUS yesterday's streak (where continuing)\n",
    "            currentStreakImage\n",
    "              .multiply(continueStreakImage).add(ee.Image(img)),\n",
    "            # streakCountImage --> PLUS 1 where long streak ended today\n",
    "            streakCountImage.add(endedStreakExceedsLengthImage),\n",
    "            # longestStreakImage --> larger of prev and current value\n",
    "            longestStreakImage.max(currentStreakImage.multiply(continueStreakImage).add(ee.Image(img))),\n",
    "            # streakAccumulation --> yesterday's accum plus current 1/0, if in streak\n",
    "            streakAccumulation.add(ee.Image(img).multiply(continueStreakImage)),\n",
    "            # numRemaining --> minus 1\n",
    "            numRemaining.add(-1)\n",
    "          ]\n",
    "        )\n",
    "\n",
    "        return accumulator\n",
    "  \n",
    "    resultImageName = {\n",
    "        'count': 'streakCountImage',\n",
    "        'max': 'longestStreakImage',\n",
    "        'accum': 'streakAccumulation'\n",
    "    }\n",
    "  \n",
    "    streakData = imgs.iterate(\n",
    "    # iterate over each image in the ImageCollection\n",
    "    #   accumulate a stateful Dictionary of images\n",
    "    \n",
    "        doOne, ee.Dictionary.fromLists([\n",
    "          'previousThresholdImage', \n",
    "          'currentStreakImage',\n",
    "          'streakCountImage',\n",
    "          'longestStreakImage',\n",
    "          'streakAccumulation',\n",
    "          'numRemaining'\n",
    "        ], [\n",
    "          ee.Image.constant(1),\n",
    "          ee.Image.constant(0).uint16(),\n",
    "          ee.Image.constant(0).uint16(),\n",
    "          ee.Image.constant(0).uint16(),\n",
    "          ee.Image.constant(0).uint16(),\n",
    "          imgs.size().add(-1)\n",
    "        ]\n",
    "        )\n",
    "    \n",
    "    )\n",
    "    return ee.Image(ee.Dictionary(streakData).get(resultImageName[resultType]))"
   ]
  },
  {
   "cell_type": "code",
   "execution_count": 5,
   "metadata": {},
   "outputs": [],
   "source": [
    "NEX = ee.ImageCollection(\"NASA/NEX-GDDP\")\n",
    "PR_99 = ee.ImageCollection('users/tedwongwri/dataportal/percentiles/pr_99')\n",
    "TASMAX_99 = ee.ImageCollection('users/tedwongwri/dataportal/percentiles/tasmax_99'),\n",
    "TASMIN_01 = ee.ImageCollection('users/tedwongwri/dataportal/percentiles/tasmin_01'),\n",
    "WHOLE_GLOBE = ee.Geometry.Rectangle([-179.999, -90, 180, 90], 'EPSG:4326', False)\n",
    "MODELS = ['ACCESS1-0', 'bcc-csm1-1', 'BNU-ESM', 'CanESM2', 'CCSM4', 'CESM1-BGC', 'CNRM-CM5', 'CSIRO-Mk3-6-0', 'GFDL-CM3', 'GFDL-ESM2G', 'GFDL-ESM2M', 'inmcm4', 'IPSL-CM5A-LR', 'IPSL-CM5A-MR', 'MIROC-ESM', 'MIROC-ESM-CHEM', 'MIROC5', 'MPI-ESM-LR', 'MPI-ESM-MR', 'MRI-CGCM3', 'NorESM1-M']\n",
    "START_YEAR = 2010\n",
    "END_YEAR = 2099"
   ]
  },
  {
   "cell_type": "code",
   "execution_count": null,
   "metadata": {},
   "outputs": [],
   "source": [
    "for hazard in hazards:\n",
    "    for year in range(START_YEAR, END_YEAR + 1):\n",
    "        for model in MODELS:\n",
    "            data = NEX.filterMetadata('model', 'equals', model).filterDate(str(year) + '-01-01', str(year) + '-12-31').filterMetadata('scenario', 'equals', ['historical', 'rcp85'][(year > 2005) * 1]).select(hazard['variable'])\n",
    "            img = hazard['definition'](data)\n",
    "            task = ee.batch.Export.image.toAsset(**{\n",
    "              'image': img.rename(hazard['definition'].__name__).set('model', model).set('year', year),\n",
    "              'description': '{0}_{1}_{2}'.format(hazard['definition'].__name__, str(year), model),\n",
    "              'assetId': 'users/tedwongwri/dataportal/magnitudes/{0}/{1}_{2}'.format(hazard['definition'].__name__, str(year), model),\n",
    "              'region': WHOLE_GLOBE,\n",
    "              'crs': 'EPSG:4326',\n",
    "              'dimensions': '1440x720'\n",
    "            })\n",
    "            task.start()"
   ]
  },
  {
   "cell_type": "code",
   "execution_count": null,
   "metadata": {},
   "outputs": [],
   "source": []
  },
  {
   "cell_type": "code",
   "execution_count": null,
   "metadata": {},
   "outputs": [],
   "source": []
  }
 ],
 "metadata": {
  "kernelspec": {
   "display_name": "Python 3",
   "language": "python",
   "name": "python3"
  },
  "language_info": {
   "codemirror_mode": {
    "name": "ipython",
    "version": 3
   },
   "file_extension": ".py",
   "mimetype": "text/x-python",
   "name": "python",
   "nbconvert_exporter": "python",
   "pygments_lexer": "ipython3",
   "version": "3.8.5"
  }
 },
 "nbformat": 4,
 "nbformat_minor": 4
}
