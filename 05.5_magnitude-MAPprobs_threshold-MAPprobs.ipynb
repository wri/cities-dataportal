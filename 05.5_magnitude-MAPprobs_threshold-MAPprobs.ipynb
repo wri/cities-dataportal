{
 "cells": [
  {
   "cell_type": "markdown",
   "metadata": {},
   "source": [
    "**Inputs**\n",
    "* ImageCollection with Images: maximum a posterior (MAP) probabilities of each magnitude-year pair\n",
    "\n",
    "**Outputs**\n",
    "* ImageCollection with Images: maximum a posterior (MAP) probabilities of each magnitude-year pair--where magnitude values are thresholds"
   ]
  },
  {
   "cell_type": "code",
   "execution_count": 1,
   "metadata": {},
   "outputs": [
    {
     "data": {
      "text/html": [
       "<p>To authorize access needed by Earth Engine, open the following\n",
       "        URL in a web browser and follow the instructions:</p>\n",
       "        <p><a href=https://accounts.google.com/o/oauth2/auth?client_id=517222506229-vsmmajv00ul0bs7p89v5m89qs8eb9359.apps.googleusercontent.com&scope=https%3A%2F%2Fwww.googleapis.com%2Fauth%2Fearthengine+https%3A%2F%2Fwww.googleapis.com%2Fauth%2Fdevstorage.full_control&redirect_uri=urn%3Aietf%3Awg%3Aoauth%3A2.0%3Aoob&response_type=code&code_challenge=qNI3ta_G78tMZGYXsBqBBnClf-3rZchgllgGp031NE8&code_challenge_method=S256>https://accounts.google.com/o/oauth2/auth?client_id=517222506229-vsmmajv00ul0bs7p89v5m89qs8eb9359.apps.googleusercontent.com&scope=https%3A%2F%2Fwww.googleapis.com%2Fauth%2Fearthengine+https%3A%2F%2Fwww.googleapis.com%2Fauth%2Fdevstorage.full_control&redirect_uri=urn%3Aietf%3Awg%3Aoauth%3A2.0%3Aoob&response_type=code&code_challenge=qNI3ta_G78tMZGYXsBqBBnClf-3rZchgllgGp031NE8&code_challenge_method=S256</a></p>\n",
       "        <p>The authorization workflow will generate a code, which you\n",
       "        should paste in the box below</p>\n",
       "        "
      ],
      "text/plain": [
       "<IPython.core.display.HTML object>"
      ]
     },
     "metadata": {},
     "output_type": "display_data"
    },
    {
     "name": "stdout",
     "output_type": "stream",
     "text": [
      "Enter verification code: 4/1AX4XfWjvXR_YFR7XNU0UABaiHjxqFKUlEXNQpmJ5zbfQHmemc58hzTIq1fE\n",
      "\n",
      "Successfully saved authorization token.\n"
     ]
    }
   ],
   "source": [
    "import ee\n",
    "ee.Authenticate()"
   ]
  },
  {
   "cell_type": "code",
   "execution_count": 2,
   "metadata": {},
   "outputs": [],
   "source": [
    "ee.Initialize()"
   ]
  },
  {
   "cell_type": "code",
   "execution_count": 3,
   "metadata": {},
   "outputs": [],
   "source": [
    "WHOLE_GLOBE = ee.Geometry.Rectangle([-179.999, -90, 180, 90], 'EPSG:4326', False)\n",
    "START_YEAR = 2020\n",
    "END_YEAR = 2099\n",
    "use_greaterthan = True"
   ]
  },
  {
   "cell_type": "code",
   "execution_count": 4,
   "metadata": {},
   "outputs": [],
   "source": [
    "hazard_info = {\n",
    "    'ds': {\n",
    "        'num_bins': 100,\n",
    "        'bin_width': 1\n",
    "    },\n",
    "    'maxdryspell': {\n",
    "        'num_bins': 73,\n",
    "        'bin_width': 5\n",
    "    }\n",
    "}"
   ]
  },
  {
   "cell_type": "code",
   "execution_count": 15,
   "metadata": {},
   "outputs": [],
   "source": [
    "for hazardname in hazard_info.keys():\n",
    "    mapprobs = ee.ImageCollection('users/tedwongwri/dataportal/MAPprobs/{0}'.format(hazardname))\n",
    "    for year in range(START_YEAR, END_YEAR + 1):\n",
    "        year_list = ee.List([])\n",
    "        img = mapprobs.filterMetadata('year', 'equals', year).first()\n",
    "        band_names = img.bandNames().getInfo()\n",
    "        mag_parts = [i.split('_')[1] for i in band_names]\n",
    "        highlows = [[float(j) for j in i.split('-')] for i in mag_parts]\n",
    "        for magnitude in highlows:\n",
    "            total_img = ee.Image(0)\n",
    "            prob_img = ee.Image(0)\n",
    "            for hl1 in highlows:\n",
    "                prob_segment = img.select('magnitude_{0}-{1}'.format(str(int(hl1[0])), str(int(hl1[1]))))\n",
    "                total_img = total_img.add(prob_segment)\n",
    "                prob_img = prob_img.add(prob_segment.multiply(((hl1[0] >= magnitude[1] and use_greaterthan) or (hl1[1] <= magnitude[0] and not use_greaterthan)) * 1))\n",
    "            year_list = year_list.add(prob_img.divide(total_img).set('threshold', [magnitude[1], magnitude[0]][use_greaterthan * 1]))\n",
    "        year_img = ee.ImageCollection(year_list).toBands().rename(['threshold_{0}'.format(str(int(i[[1, 0][use_greaterthan * 1]]))) for i in highlows]).set('year', year)\n",
    "        task = ee.batch.Export.image.toAsset(**{\n",
    "            'image': year_img,\n",
    "            'description': 'thresholdMAPprobs_{0}_{1}'.format(hazardname, str(year)),\n",
    "            'assetId': 'users/tedwongwri/dataportal/thresholdMAPprobs/{0}/{1}'.format(hazardname, str(year)),\n",
    "            'region': WHOLE_GLOBE,\n",
    "            'crs': 'EPSG:4326',\n",
    "            'dimensions': '1440x720'\n",
    "        })\n",
    "        task.start()"
   ]
  },
  {
   "cell_type": "code",
   "execution_count": null,
   "metadata": {},
   "outputs": [],
   "source": []
  }
 ],
 "metadata": {
  "kernelspec": {
   "display_name": "Python 3",
   "language": "python",
   "name": "python3"
  },
  "language_info": {
   "codemirror_mode": {
    "name": "ipython",
    "version": 3
   },
   "file_extension": ".py",
   "mimetype": "text/x-python",
   "name": "python",
   "nbconvert_exporter": "python",
   "pygments_lexer": "ipython3",
   "version": "3.8.5"
  }
 },
 "nbformat": 4,
 "nbformat_minor": 4
}
