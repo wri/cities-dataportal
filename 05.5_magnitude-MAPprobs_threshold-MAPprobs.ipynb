{
 "cells": [
  {
   "cell_type": "markdown",
   "metadata": {},
   "source": [
    "**Inputs**\n",
    "* ImageCollection with Images: maximum a posterior (MAP) probabilities of each magnitude-year pair\n",
    "\n",
    "**Outputs**\n",
    "* ImageCollection with Images: maximum a posterior (MAP) probabilities of each magnitude-year pair--where magnitude values are thresholds"
   ]
  },
  {
   "cell_type": "code",
   "execution_count": 1,
   "metadata": {},
   "outputs": [
    {
     "data": {
      "text/html": [
       "<p>To authorize access needed by Earth Engine, open the following\n",
       "        URL in a web browser and follow the instructions:</p>\n",
       "        <p><a href=https://accounts.google.com/o/oauth2/auth?client_id=517222506229-vsmmajv00ul0bs7p89v5m89qs8eb9359.apps.googleusercontent.com&scope=https%3A%2F%2Fwww.googleapis.com%2Fauth%2Fearthengine+https%3A%2F%2Fwww.googleapis.com%2Fauth%2Fdevstorage.full_control&redirect_uri=urn%3Aietf%3Awg%3Aoauth%3A2.0%3Aoob&response_type=code&code_challenge=hE59mXzfivxZxtHnlL299l40R8jC-qk9lRcRV-a7my8&code_challenge_method=S256>https://accounts.google.com/o/oauth2/auth?client_id=517222506229-vsmmajv00ul0bs7p89v5m89qs8eb9359.apps.googleusercontent.com&scope=https%3A%2F%2Fwww.googleapis.com%2Fauth%2Fearthengine+https%3A%2F%2Fwww.googleapis.com%2Fauth%2Fdevstorage.full_control&redirect_uri=urn%3Aietf%3Awg%3Aoauth%3A2.0%3Aoob&response_type=code&code_challenge=hE59mXzfivxZxtHnlL299l40R8jC-qk9lRcRV-a7my8&code_challenge_method=S256</a></p>\n",
       "        <p>The authorization workflow will generate a code, which you\n",
       "        should paste in the box below</p>\n",
       "        "
      ],
      "text/plain": [
       "<IPython.core.display.HTML object>"
      ]
     },
     "metadata": {},
     "output_type": "display_data"
    },
    {
     "name": "stdout",
     "output_type": "stream",
     "text": [
      "Enter verification code: 4/1AX4XfWg2sIQ5pKgY6cjowSgK7x3kPG1p-OUi8vGqX9omx2Qf69AQj_sL6IQ\n",
      "\n",
      "Successfully saved authorization token.\n"
     ]
    }
   ],
   "source": [
    "import ee\n",
    "ee.Authenticate()"
   ]
  },
  {
   "cell_type": "code",
   "execution_count": 10,
   "metadata": {},
   "outputs": [],
   "source": [
    "ee.Initialize()"
   ]
  },
  {
   "cell_type": "code",
   "execution_count": 19,
   "metadata": {},
   "outputs": [],
   "source": [
    "WHOLE_GLOBE = ee.Geometry.Rectangle([-179.999, -90, 180, 90], 'EPSG:4326', False)\n",
    "START_YEAR = 2020\n",
    "END_YEAR = 2099\n",
    "hazardname = 'dryspells'\n",
    "use_greaterthan = True"
   ]
  },
  {
   "cell_type": "code",
   "execution_count": 20,
   "metadata": {},
   "outputs": [],
   "source": [
    "mapprobs = ee.ImageCollection('users/tedwongwri/dataportal/MAPprobs/{0}'.format(hazardname))"
   ]
  },
  {
   "cell_type": "code",
   "execution_count": 24,
   "metadata": {},
   "outputs": [],
   "source": [
    "for year in range(START_YEAR, END_YEAR + 1):\n",
    "    img = mapprobs.filterMetadata('year', 'equals', year).first()\n",
    "    magnitudes = [float(i.split('_')[1]) for i in img.bandNames().getInfo()]\n",
    "    year_list = ee.List([])\n",
    "    for magnitude in magnitudes:\n",
    "        total_img = ee.Image(0)\n",
    "        prob_img = ee.Image(0)\n",
    "        for m1 in magnitudes:\n",
    "            total_img = total_img.add(img.select('magnitude_{}'.format(str(int(m1)))))\n",
    "            prob_img = prob_img.add(img.select('magnitude_{}'.format(str(int(m1)))).multiply(((m1 >= magnitude and use_greaterthan) or (m1 <= magnitude and not use_greaterthan)) * 1))\n",
    "        year_list = year_list.add(prob_img.divide(total_img).set('threshold', magnitude))\n",
    "    year_img = ee.ImageCollection(year_list).toBands().rename(['threshold_{0}'.format(str(int(i))) for i in magnitudes]).set('year', year)\n",
    "    task = ee.batch.Export.image.toAsset(**{\n",
    "        'image': year_img,\n",
    "        'description': 'thresholdMAPprobs_{0}_{1}'.format(hazardname, str(year)),\n",
    "        'assetId': 'users/tedwongwri/dataportal/thresholdMAPprobs/{0}/{1}'.format(hazardname, str(year)),\n",
    "        'region': WHOLE_GLOBE,\n",
    "        'crs': 'EPSG:4326',\n",
    "        'dimensions': '1440x720'\n",
    "    })\n",
    "    task.start()"
   ]
  },
  {
   "cell_type": "code",
   "execution_count": null,
   "metadata": {},
   "outputs": [],
   "source": []
  }
 ],
 "metadata": {
  "kernelspec": {
   "display_name": "Python 3",
   "language": "python",
   "name": "python3"
  },
  "language_info": {
   "codemirror_mode": {
    "name": "ipython",
    "version": 3
   },
   "file_extension": ".py",
   "mimetype": "text/x-python",
   "name": "python",
   "nbconvert_exporter": "python",
   "pygments_lexer": "ipython3",
   "version": "3.8.5"
  }
 },
 "nbformat": 4,
 "nbformat_minor": 4
}
